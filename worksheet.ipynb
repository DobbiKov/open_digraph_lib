{
 "cells": [
  {
   "cell_type": "code",
   "execution_count": null,
   "id": "d101239e",
   "metadata": {},
   "outputs": [],
   "source": [
    "from IPython.display import Image, display\n",
    "from IPython.display import PDF\n",
    "\n",
    "from modules.graphs import graph_de_prof_td_10\n",
    "from modules.open_digraph import *\n",
    "from modules.bool_circ import *\n",
    "import inspect\n",
    "from loguru import logger\n",
    "import sys\n"
   ]
  },
  {
   "cell_type": "code",
   "execution_count": 2,
   "id": "adb2aacc",
   "metadata": {},
   "outputs": [],
   "source": [
    "def display_inline_image(path: str) -> None:\n",
    "    display(Image(filename=path))"
   ]
  },
  {
   "cell_type": "code",
   "execution_count": 4,
   "id": "0d6cb32c",
   "metadata": {},
   "outputs": [],
   "source": [
    "def display_inline_pdf(path: str) -> None:\n",
    "    display(PDF(path))"
   ]
  },
  {
   "cell_type": "code",
   "execution_count": 5,
   "id": "d072ba59",
   "metadata": {},
   "outputs": [],
   "source": [
    "num_1_bc = bool_circ.from_number(11, 8)\n",
    "num_1 = [ num_1_bc.get_id_node_map()[idx].get_label() for idx in num_1_bc.get_inputs_ids()]\n",
    "\n",
    "num_2_bc = bool_circ.from_number(10, 8)\n",
    "num_2 = [ num_2_bc.get_id_node_map()[idx].get_label() for idx in num_2_bc.get_inputs_ids()]"
   ]
  },
  {
   "cell_type": "code",
   "execution_count": 9,
   "id": "c6cb398a",
   "metadata": {},
   "outputs": [
    {
     "ename": "AttributeError",
     "evalue": "'bool_circ' object has no attribute 'save_as_pdf_file'",
     "output_type": "error",
     "traceback": [
      "\u001b[31m---------------------------------------------------------------------------\u001b[39m",
      "\u001b[31mAttributeError\u001b[39m                            Traceback (most recent call last)",
      "\u001b[36mCell\u001b[39m\u001b[36m \u001b[39m\u001b[32mIn[9]\u001b[39m\u001b[32m, line 2\u001b[39m\n\u001b[32m      1\u001b[39m adder_1 = bool_circ.build_half_adder(\u001b[32m3\u001b[39m, num_1, num_2)\n\u001b[32m----> \u001b[39m\u001b[32m2\u001b[39m pdf_name = \u001b[43madder_1\u001b[49m\u001b[43m.\u001b[49m\u001b[43msave_as_pdf_file\u001b[49m(\u001b[33m\"\u001b[39m\u001b[33madder_1\u001b[39m\u001b[33m\"\u001b[39m)\n\u001b[32m      5\u001b[39m display_inline_pdf(pdf_name)\n",
      "\u001b[31mAttributeError\u001b[39m: 'bool_circ' object has no attribute 'save_as_pdf_file'"
     ]
    }
   ],
   "source": [
    "adder_1 = bool_circ.build_half_adder(3, num_1, num_2)\n",
    "pdf_name = adder_1.save_as_pdf_file(\"adder_1\")\n",
    "\n",
    "\n",
    "display_inline_pdf(pdf_name)"
   ]
  },
  {
   "cell_type": "code",
   "execution_count": null,
   "id": "4d152d28",
   "metadata": {},
   "outputs": [],
   "source": [
    "adder_1.evaluate()\n",
    "pdf_name = adder_1.save_as_pdf_file('adder_1_evaluated')\n",
    "\n",
    "display_inline_pdf(pdf_name)"
   ]
  }
 ],
 "metadata": {
  "kernelspec": {
   "display_name": "env",
   "language": "python",
   "name": "python3"
  },
  "language_info": {
   "codemirror_mode": {
    "name": "ipython",
    "version": 3
   },
   "file_extension": ".py",
   "mimetype": "text/x-python",
   "name": "python",
   "nbconvert_exporter": "python",
   "pygments_lexer": "ipython3",
   "version": "3.13.3"
  }
 },
 "nbformat": 4,
 "nbformat_minor": 5
}
