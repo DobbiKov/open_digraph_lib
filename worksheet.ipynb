{
 "cells": [
  {
   "cell_type": "code",
   "execution_count": 2,
   "id": "d101239e",
   "metadata": {},
   "outputs": [],
   "source": [
    "from IPython.display import Image, display\n",
    "from IPython.display import IFrame\n",
    "\n",
    "from modules.graphs import graph_de_prof_td_10\n",
    "from modules.open_digraph import *\n",
    "from modules.bool_circ import *\n",
    "import inspect\n",
    "from loguru import logger\n",
    "import sys\n"
   ]
  },
  {
   "cell_type": "code",
   "execution_count": 3,
   "id": "adb2aacc",
   "metadata": {},
   "outputs": [],
   "source": [
    "def display_inline_image(path: str) -> None:\n",
    "    display(Image(filename=path))"
   ]
  },
  {
   "cell_type": "code",
   "execution_count": 4,
   "id": "0d6cb32c",
   "metadata": {},
   "outputs": [],
   "source": [
    "def display_inline_pdf(path: str) -> None:\n",
    "    IFrame(path, 400, 400)"
   ]
  },
  {
   "cell_type": "code",
   "execution_count": 5,
   "id": "d072ba59",
   "metadata": {},
   "outputs": [],
   "source": [
    "num_1_bc = bool_circ.from_number(11, 8)\n",
    "num_1 = [ num_1_bc.get_id_node_map()[idx].get_label() for idx in num_1_bc.get_inputs_ids()]\n",
    "\n",
    "num_2_bc = bool_circ.from_number(10, 8)\n",
    "num_2 = [ num_2_bc.get_id_node_map()[idx].get_label() for idx in num_2_bc.get_inputs_ids()]"
   ]
  },
  {
   "cell_type": "code",
   "execution_count": 11,
   "id": "c6cb398a",
   "metadata": {},
   "outputs": [
    {
     "name": "stdout",
     "output_type": "stream",
     "text": [
      "('adder_1.pdf', './display/adder_1.pdf')\n"
     ]
    },
    {
     "data": {
      "text/html": [
       "\n",
       "        <iframe\n",
       "            width=\"400\"\n",
       "            height=\"400\"\n",
       "            src=\"display/adder_1.pdf\"\n",
       "            frameborder=\"0\"\n",
       "            allowfullscreen\n",
       "            \n",
       "        ></iframe>\n",
       "        "
      ],
      "text/plain": [
       "<IPython.lib.display.IFrame at 0x104f29fd0>"
      ]
     },
     "execution_count": 11,
     "metadata": {},
     "output_type": "execute_result"
    }
   ],
   "source": [
    "adder_1 = bool_circ.build_half_adder(3, num_1, num_2)\n",
    "pdf_path = adder_1.save_as_pdf_file(\"adder_1\")[1]\n",
    "print(adder_1.save_as_pdf_file(\"adder_1\"))\n",
    "\n",
    "\n",
    "IFrame(\"display/adder_1.pdf\", 400, 400)"
   ]
  },
  {
   "cell_type": "code",
   "execution_count": 7,
   "id": "4d152d28",
   "metadata": {},
   "outputs": [],
   "source": [
    "adder_1.evaluate()\n",
    "pdf_path = adder_1.save_as_pdf_file('adder_1_evaluated')[1]\n",
    "\n",
    "display_inline_pdf(pdf_path)"
   ]
  },
  {
   "cell_type": "code",
   "execution_count": null,
   "id": "21dff85d",
   "metadata": {},
   "outputs": [],
   "source": []
  }
 ],
 "metadata": {
  "kernelspec": {
   "display_name": "env",
   "language": "python",
   "name": "python3"
  },
  "language_info": {
   "codemirror_mode": {
    "name": "ipython",
    "version": 3
   },
   "file_extension": ".py",
   "mimetype": "text/x-python",
   "name": "python",
   "nbconvert_exporter": "python",
   "pygments_lexer": "ipython3",
   "version": "3.13.3"
  }
 },
 "nbformat": 4,
 "nbformat_minor": 5
}
